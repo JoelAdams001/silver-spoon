{
 "cells": [
  {
   "cell_type": "markdown",
   "metadata": {},
   "source": [
    "# Exercise 11"
   ]
  },
  {
   "cell_type": "code",
   "execution_count": 2,
   "metadata": {},
   "outputs": [
    {
     "name": "stdout",
     "output_type": "stream",
     "text": [
      "How old are you?\n",
      "22\n",
      "How tall are you?\n",
      "6 ft 1 in\n",
      "How much do you weigh?\n",
      "130\n",
      "So, you're '22' old, '6 ft 1 in' tall and '130' heavy.\n"
     ]
    }
   ],
   "source": [
    "print (\"How old are you?\",)\n",
    "age = input() #I found out that for Python 3, raw_input() was replaced with input()\n",
    "print (\"How tall are you?\",)\n",
    "height = input()\n",
    "print (\"How much do you weigh?\",)\n",
    "weight = input()\n",
    "\n",
    "print (\"So, you're %r old, %r tall and %r heavy.\" % (age, height, weight))"
   ]
  }
 ],
 "metadata": {
  "kernelspec": {
   "display_name": "Python 3",
   "language": "python",
   "name": "python3"
  },
  "language_info": {
   "codemirror_mode": {
    "name": "ipython",
    "version": 3
   },
   "file_extension": ".py",
   "mimetype": "text/x-python",
   "name": "python",
   "nbconvert_exporter": "python",
   "pygments_lexer": "ipython3",
   "version": "3.6.3"
  }
 },
 "nbformat": 4,
 "nbformat_minor": 2
}
