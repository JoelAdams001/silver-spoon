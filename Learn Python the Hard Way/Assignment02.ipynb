{
 "cells": [
  {
   "cell_type": "markdown",
   "metadata": {},
   "source": [
    "# Exercise 2"
   ]
  },
  {
   "cell_type": "code",
   "execution_count": 3,
   "metadata": {},
   "outputs": [
    {
     "name": "stdout",
     "output_type": "stream",
     "text": [
      "I could have code like this\n",
      "This will run\n"
     ]
    }
   ],
   "source": [
    "# Hey I'm adding comments to see how this runs\n",
    "\n",
    "print (\"I could have code like this\") #More comments here\n",
    "\n",
    "#Even more comments down here!\n",
    "#print (\"not gunna run\")\n",
    "\n",
    "print (\"This will run\")"
   ]
  }
 ],
 "metadata": {
  "kernelspec": {
   "display_name": "Python 3",
   "language": "python",
   "name": "python3"
  },
  "language_info": {
   "codemirror_mode": {
    "name": "ipython",
    "version": 3
   },
   "file_extension": ".py",
   "mimetype": "text/x-python",
   "name": "python",
   "nbconvert_exporter": "python",
   "pygments_lexer": "ipython3",
   "version": "3.6.3"
  }
 },
 "nbformat": 4,
 "nbformat_minor": 2
}
