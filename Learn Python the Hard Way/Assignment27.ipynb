{
 "cells": [
  {
   "cell_type": "markdown",
   "metadata": {},
   "source": [
    "# Exercise 27"
   ]
  },
  {
   "cell_type": "markdown",
   "metadata": {},
   "source": [
    "Here are the truth tables"
   ]
  },
  {
   "cell_type": "code",
   "execution_count": 1,
   "metadata": {},
   "outputs": [],
   "source": [
    "#NOT\n",
    "#False = True\n",
    "#True = False\n",
    "\n",
    "#OR\n",
    "#True or False = True\n",
    "#True or True = True\n",
    "#False or True = True\n",
    "#False or False = False\n",
    "\n",
    "#AND\n",
    "#True and False = False\n",
    "#True and True = True\n",
    "#False and True = False\n",
    "#False and False = False\n",
    "\n",
    "#NOT OR\n",
    "#True or False = False\n",
    "#True or True = False\n",
    "#False or True = False\n",
    "#False or False = True\n",
    "\n",
    "#NOT AND\n",
    "#True and False = True\n",
    "#True and True = False\n",
    "#False and True = True\n",
    "#False and False = True\n",
    "\n",
    "# !=\n",
    "#1 != 0 = True\n",
    "#1 != 1 = False\n",
    "#0 != 1 = True\n",
    "#0 != 0 False\n",
    "\n",
    "# ==\n",
    "#1 == 0 = False\n",
    "#1 == 1 = True\n",
    "#0 == 1 = False\n",
    "#0 == 0 = True\n"
   ]
  },
  {
   "cell_type": "markdown",
   "metadata": {},
   "source": [
    "# Nothing else to do here"
   ]
  },
  {
   "cell_type": "code",
   "execution_count": null,
   "metadata": {},
   "outputs": [],
   "source": []
  }
 ],
 "metadata": {
  "kernelspec": {
   "display_name": "Python 3",
   "language": "python",
   "name": "python3"
  },
  "language_info": {
   "codemirror_mode": {
    "name": "ipython",
    "version": 3
   },
   "file_extension": ".py",
   "mimetype": "text/x-python",
   "name": "python",
   "nbconvert_exporter": "python",
   "pygments_lexer": "ipython3",
   "version": "3.6.3"
  }
 },
 "nbformat": 4,
 "nbformat_minor": 2
}
