{
 "cells": [
  {
   "cell_type": "markdown",
   "metadata": {},
   "source": [
    "# Exercise 3"
   ]
  },
  {
   "cell_type": "code",
   "execution_count": 4,
   "metadata": {},
   "outputs": [
    {
     "name": "stdout",
     "output_type": "stream",
     "text": [
      "I will now count my chickens:\n",
      "Hens 30.0\n",
      "Roosters 97\n",
      "I will now count the eggs:\n",
      "6.75\n",
      "Is it true that 3 + 2 < 5 - 7?\n",
      "False\n",
      "What is 3 + 2? 5\n",
      "What is 5 - 7? -2\n",
      "Oh, that's why it's False\n",
      "How about some more.\n",
      "Is it greater? True\n",
      "Is it greater or equal? True\n",
      "Is it less or equal? False\n"
     ]
    }
   ],
   "source": [
    "print (\"I will now count my chickens:\")\n",
    "\n",
    "print (\"Hens\", 25 + 30/6) #Order of operations dictates this does the division first before adding\n",
    "print (\"Roosters\", 100 - 25 * 3 % 4) #I discoverd that the modulus is done after multiplication\n",
    "\n",
    "print (\"I will now count the eggs:\") #I'm vegan I don't eat eggs\n",
    "\n",
    "print (3 + 2 + 1 - 5 + 4 % 2 - 1 / 4 + 6)\n",
    "\n",
    "print (\"Is it true that 3 + 2 < 5 - 7?\")\n",
    "\n",
    "print (3 + 2 < 5 - 7) #A boolean value is outputed from this\n",
    "\n",
    "print (\"What is 3 + 2?\", 3 + 2) #Comma seperates string from floating value\n",
    "print (\"What is 5 - 7?\", 5 - 7)\n",
    "\n",
    "print (\"Oh, that's why it's False\")\n",
    "print (\"How about some more.\")\n",
    "\n",
    "print (\"Is it greater?\", 5 > -2)\n",
    "print (\"Is it greater or equal?\", 5 >= -2)\n",
    "print (\"Is it less or equal?\", 5 <= -2)"
   ]
  }
 ],
 "metadata": {
  "kernelspec": {
   "display_name": "Python 3",
   "language": "python",
   "name": "python3"
  },
  "language_info": {
   "codemirror_mode": {
    "name": "ipython",
    "version": 3
   },
   "file_extension": ".py",
   "mimetype": "text/x-python",
   "name": "python",
   "nbconvert_exporter": "python",
   "pygments_lexer": "ipython3",
   "version": "3.6.3"
  }
 },
 "nbformat": 4,
 "nbformat_minor": 2
}
