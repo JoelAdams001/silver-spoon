{
 "cells": [
  {
   "cell_type": "markdown",
   "metadata": {},
   "source": [
    "# Exercise 7"
   ]
  },
  {
   "cell_type": "code",
   "execution_count": 8,
   "metadata": {},
   "outputs": [
    {
     "name": "stdout",
     "output_type": "stream",
     "text": [
      "Mary had a little lamb.\n",
      "Its fleece was white as snow.\n",
      "And everywhere that Mary went.\n",
      "..........\n",
      "Vegan \n",
      "Burger\n"
     ]
    }
   ],
   "source": [
    "print (\"Mary had a little lamb.\")\n",
    "print (\"Its fleece was white as %s.\" % \"snow\")\n",
    "print (\"And everywhere that Mary went.\")\n",
    "print (\".\" * 10) #I'm sure that added ten periods. We'll see!\n",
    "\n",
    "end1 = \"V\"\n",
    "end2 = \"e\"\n",
    "end3 = \"g\"\n",
    "end4 = \"a\"\n",
    "end5 = \"n\"\n",
    "end6 = \" \"\n",
    "end7 = \"B\"\n",
    "end8 = \"u\"\n",
    "end9 = \"r\"\n",
    "end10 = \"g\"\n",
    "end11 = \"e\"\n",
    "end12 = \"r\"\n",
    "\n",
    "print (end1 + end2 + end3 + end4 + end5 + end6) #The comma removal didn't do anything.\n",
    "print (end7 + end8 + end9 + end10 + end11 + end12)"
   ]
  }
 ],
 "metadata": {
  "kernelspec": {
   "display_name": "Python 3",
   "language": "python",
   "name": "python3"
  },
  "language_info": {
   "codemirror_mode": {
    "name": "ipython",
    "version": 3
   },
   "file_extension": ".py",
   "mimetype": "text/x-python",
   "name": "python",
   "nbconvert_exporter": "python",
   "pygments_lexer": "ipython3",
   "version": "3.6.3"
  }
 },
 "nbformat": 4,
 "nbformat_minor": 2
}
