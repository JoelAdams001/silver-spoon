{
 "cells": [
  {
   "cell_type": "markdown",
   "metadata": {},
   "source": [
    "# Exercise 36"
   ]
  },
  {
   "cell_type": "markdown",
   "metadata": {},
   "source": [
    "Welcome to the interactive woodcutting game inspired by Jagex's Runescape of course!"
   ]
  },
  {
   "cell_type": "code",
   "execution_count": 11,
   "metadata": {},
   "outputs": [
    {
     "name": "stdout",
     "output_type": "stream",
     "text": [
      "You are inside a forest. What kind of tree will you be cutting down?\n",
      "1. Regular\n",
      "2. Oak\n",
      "3. Yew\n",
      "4. I don't know\n",
      "> Regular\n",
      "You start chopping the regular tree... \n",
      "You have 1 regular logs now.\n",
      "You have 2 regular logs now.\n",
      "You have 3 regular logs now.\n",
      "You have 4 regular logs now.\n",
      "You have 5 regular logs now.\n",
      "The tree falls to the ground leaving nothing but a stump.\n"
     ]
    }
   ],
   "source": [
    "from sys import exit\n",
    "import random\n",
    "\n",
    "def regular():\n",
    "    print(\"You start chopping the regular tree... \")\n",
    "    n = 4\n",
    "    logs = 1\n",
    "    while n <= 4:\n",
    "        print(f\"You have {logs} regular logs now.\")\n",
    "        logs = logs + 1\n",
    "        n = random.randint(0,10)\n",
    "    \n",
    "    print(\"The tree falls to the ground leaving nothing but a stump.\")\n",
    "        \n",
    "#For oak there is a higher chance of a greater number of logs you get out of it.\n",
    "def oak():\n",
    "    print(\"You start chopping the oak tree... \")\n",
    "    n = 2\n",
    "    logs = 1\n",
    "    while n <= 2:\n",
    "        print(f\"You have {logs} regular logs now.\")\n",
    "        logs = logs + 1\n",
    "        n = random.randint(0,10)\n",
    "    \n",
    "    print(\"The tree falls to the ground. Wow... That was exhausting...\")\n",
    "    \n",
    "\n",
    "def yew():\n",
    "    print(\"You start chopping the mighty yew tree... \")\n",
    "    n = 1\n",
    "    logs = 1\n",
    "    while n <= 1:\n",
    "        print(f\"You have {logs} regular logs now.\")\n",
    "        logs = logs + 1\n",
    "        n = random.randint(0,30)\n",
    "    \n",
    "    print(\"You are out of breathe... the yew tree starts falling... TIMBER!\")\n",
    "   \n",
    "\n",
    "    \n",
    "def start():\n",
    "    print(\"You are inside a forest. What kind of tree will you be cutting down?\")\n",
    "    print(\"1. Regular\")\n",
    "    print(\"2. Oak\")\n",
    "    print(\"3. Yew\")\n",
    "    print(\"4. I don't know\")\n",
    "   \n",
    "    \n",
    "    choice = input(\"> \")\n",
    "    \n",
    "    if choice == \"I don't know\":\n",
    "        print(\"Well if you did know what would it be?\")\n",
    "    elif choice == \"Regular\":\n",
    "        regular()\n",
    "    elif choice == \"Oak\":\n",
    "        oak()\n",
    "    elif choice == \"Yew\":\n",
    "        yew()\n",
    "    else:\n",
    "        dead(\"You gotta pick something dude.\")\n",
    "        \n",
    "start()"
   ]
  },
  {
   "cell_type": "code",
   "execution_count": null,
   "metadata": {},
   "outputs": [],
   "source": []
  }
 ],
 "metadata": {
  "kernelspec": {
   "display_name": "Python 3",
   "language": "python",
   "name": "python3"
  },
  "language_info": {
   "codemirror_mode": {
    "name": "ipython",
    "version": 3
   },
   "file_extension": ".py",
   "mimetype": "text/x-python",
   "name": "python",
   "nbconvert_exporter": "python",
   "pygments_lexer": "ipython3",
   "version": "3.6.3"
  }
 },
 "nbformat": 4,
 "nbformat_minor": 2
}
