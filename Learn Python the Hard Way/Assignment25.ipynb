{
 "cells": [
  {
   "cell_type": "markdown",
   "metadata": {},
   "source": [
    "# Exercise 25"
   ]
  },
  {
   "cell_type": "code",
   "execution_count": 15,
   "metadata": {},
   "outputs": [],
   "source": [
    "def break_words(stuff):\n",
    "    #To break up words for us yo\n",
    "    words = stuff.split(\" \")\n",
    "    return words\n",
    "\n",
    "def sort_words(words):\n",
    "    #Sorts words for us\n",
    "    return sorted(words)\n",
    "\n",
    "def print_first_word(words):\n",
    "    #Prints the first word\n",
    "    words = words.pop(0)\n",
    "    print(words)\n",
    "    \n",
    "def print_last_word(words):\n",
    "    #Prints the last word\n",
    "    words = words.pop(-1)\n",
    "    print(words)\n",
    "\n",
    "def sort_sentence(sentence):\n",
    "    #Takes a given sentence and sorts the words out\n",
    "    words = break_words(sentence)\n",
    "    return sort_words(words)\n",
    "\n",
    "def print_first_and_last(sentence):\n",
    "    #Prints the first and last words of a sentence\n",
    "    words = break_words(sentence)\n",
    "    print_first_word(words)\n",
    "    print_last_word(words)\n",
    "    \n",
    "def print_first_and_last_sorted(sentence):\n",
    "    #Sorts the words and then prints the first and last one\n",
    "    words = sort_sentence(sentence)\n",
    "    print_first_word(words)\n",
    "    print_last_word(words)"
   ]
  },
  {
   "cell_type": "code",
   "execution_count": 10,
   "metadata": {},
   "outputs": [
    {
     "name": "stdout",
     "output_type": "stream",
     "text": [
      "['All', 'good', 'things', 'come', 'to', 'those', 'who', 'wait.']\n"
     ]
    }
   ],
   "source": [
    "sentence = \"All good things come to those who wait.\"\n",
    "words = break_words(sentence)\n",
    "print(words)"
   ]
  },
  {
   "cell_type": "code",
   "execution_count": 11,
   "metadata": {},
   "outputs": [
    {
     "name": "stdout",
     "output_type": "stream",
     "text": [
      "['All', 'come', 'good', 'things', 'those', 'to', 'wait.', 'who']\n"
     ]
    }
   ],
   "source": [
    "sorted_words = sort_words(words)\n",
    "print(sorted_words)"
   ]
  },
  {
   "cell_type": "code",
   "execution_count": 16,
   "metadata": {},
   "outputs": [
    {
     "name": "stdout",
     "output_type": "stream",
     "text": [
      "things\n",
      "wait.\n"
     ]
    }
   ],
   "source": [
    "print_first_word(words)\n",
    "print_last_word(words)"
   ]
  },
  {
   "cell_type": "code",
   "execution_count": 17,
   "metadata": {},
   "outputs": [
    {
     "name": "stdout",
     "output_type": "stream",
     "text": [
      "['All', 'come', 'good', 'things', 'those', 'to', 'wait.', 'who']\n"
     ]
    }
   ],
   "source": [
    "print(sorted_words)"
   ]
  },
  {
   "cell_type": "code",
   "execution_count": 18,
   "metadata": {},
   "outputs": [
    {
     "name": "stdout",
     "output_type": "stream",
     "text": [
      "['All', 'come', 'good', 'things', 'those', 'to', 'wait.', 'who']\n"
     ]
    }
   ],
   "source": [
    "sorted_words = sort_sentence(sentence)\n",
    "print(sorted_words)"
   ]
  },
  {
   "cell_type": "code",
   "execution_count": 19,
   "metadata": {},
   "outputs": [
    {
     "name": "stdout",
     "output_type": "stream",
     "text": [
      "All\n",
      "wait.\n",
      "All\n",
      "who\n"
     ]
    }
   ],
   "source": [
    "print_first_and_last(sentence)\n",
    "print_first_and_last_sorted(sentence)"
   ]
  },
  {
   "cell_type": "markdown",
   "metadata": {},
   "source": [
    "# Okay so at this point, my using of Jupyter is limiting me from all that is being done in the python book. But I still got to test each and every function defined in this exercise."
   ]
  },
  {
   "cell_type": "code",
   "execution_count": null,
   "metadata": {},
   "outputs": [],
   "source": []
  }
 ],
 "metadata": {
  "kernelspec": {
   "display_name": "Python 3",
   "language": "python",
   "name": "python3"
  },
  "language_info": {
   "codemirror_mode": {
    "name": "ipython",
    "version": 3
   },
   "file_extension": ".py",
   "mimetype": "text/x-python",
   "name": "python",
   "nbconvert_exporter": "python",
   "pygments_lexer": "ipython3",
   "version": "3.6.3"
  }
 },
 "nbformat": 4,
 "nbformat_minor": 2
}
