{
  "nbformat": 4,
  "nbformat_minor": 0,
  "metadata": {
    "colab": {
      "name": "Untitled3.ipynb",
      "version": "0.3.2",
      "provenance": [],
      "collapsed_sections": [],
      "include_colab_link": true
    },
    "kernelspec": {
      "name": "python3",
      "display_name": "Python 3"
    }
  },
  "cells": [
    {
      "cell_type": "markdown",
      "metadata": {
        "id": "view-in-github",
        "colab_type": "text"
      },
      "source": [
        "<a href=\"https://colab.research.google.com/github/JoelAdams001/silver-spoon/blob/master/HW3.ipynb\" target=\"_parent\"><img src=\"https://colab.research.google.com/assets/colab-badge.svg\" alt=\"Open In Colab\"/></a>"
      ]
    },
    {
      "metadata": {
        "id": "Db-xC-IvApp4",
        "colab_type": "code",
        "colab": {}
      },
      "cell_type": "code",
      "source": [
        "import pandas as pd\n",
        "import numpy as np\n",
        "from sklearn.linear_model import LinearRegression,LogisticRegression\n",
        "from sklearn import datasets, linear_model\n",
        "import statsmodels.api as sm\n",
        "\n",
        "\n",
        "lin_Data = pd.read_csv('https://spark-public.s3.amazonaws.com/dataanalysis/loansData.csv')\n",
        "log_Data = pd.read_csv('https://raw.githubusercontent.com/nborwankar/LearnDataScience/master/datasets/loanf.csv')"
      ],
      "execution_count": 0,
      "outputs": []
    },
    {
      "metadata": {
        "id": "C897OBnrBU_V",
        "colab_type": "code",
        "colab": {
          "base_uri": "https://localhost:8080/",
          "height": 224
        },
        "outputId": "85562ee2-3a6e-4992-f89d-c272446c2e54"
      },
      "cell_type": "code",
      "source": [
        "lin_Data.head()"
      ],
      "execution_count": 120,
      "outputs": [
        {
          "output_type": "execute_result",
          "data": {
            "text/html": [
              "<div>\n",
              "<style scoped>\n",
              "    .dataframe tbody tr th:only-of-type {\n",
              "        vertical-align: middle;\n",
              "    }\n",
              "\n",
              "    .dataframe tbody tr th {\n",
              "        vertical-align: top;\n",
              "    }\n",
              "\n",
              "    .dataframe thead th {\n",
              "        text-align: right;\n",
              "    }\n",
              "</style>\n",
              "<table border=\"1\" class=\"dataframe\">\n",
              "  <thead>\n",
              "    <tr style=\"text-align: right;\">\n",
              "      <th></th>\n",
              "      <th>Amount.Requested</th>\n",
              "      <th>Amount.Funded.By.Investors</th>\n",
              "      <th>Interest.Rate</th>\n",
              "      <th>Loan.Length</th>\n",
              "      <th>Loan.Purpose</th>\n",
              "      <th>Debt.To.Income.Ratio</th>\n",
              "      <th>State</th>\n",
              "      <th>Home.Ownership</th>\n",
              "      <th>Monthly.Income</th>\n",
              "      <th>FICO.Range</th>\n",
              "      <th>Open.CREDIT.Lines</th>\n",
              "      <th>Revolving.CREDIT.Balance</th>\n",
              "      <th>Inquiries.in.the.Last.6.Months</th>\n",
              "      <th>Employment.Length</th>\n",
              "    </tr>\n",
              "  </thead>\n",
              "  <tbody>\n",
              "    <tr>\n",
              "      <th>81174</th>\n",
              "      <td>20000</td>\n",
              "      <td>20000.0</td>\n",
              "      <td>8.90%</td>\n",
              "      <td>36 months</td>\n",
              "      <td>debt_consolidation</td>\n",
              "      <td>14.90%</td>\n",
              "      <td>SC</td>\n",
              "      <td>MORTGAGE</td>\n",
              "      <td>6541.67</td>\n",
              "      <td>735-739</td>\n",
              "      <td>14.0</td>\n",
              "      <td>14272.0</td>\n",
              "      <td>2.0</td>\n",
              "      <td>&lt; 1 year</td>\n",
              "    </tr>\n",
              "    <tr>\n",
              "      <th>99592</th>\n",
              "      <td>19200</td>\n",
              "      <td>19200.0</td>\n",
              "      <td>12.12%</td>\n",
              "      <td>36 months</td>\n",
              "      <td>debt_consolidation</td>\n",
              "      <td>28.36%</td>\n",
              "      <td>TX</td>\n",
              "      <td>MORTGAGE</td>\n",
              "      <td>4583.33</td>\n",
              "      <td>715-719</td>\n",
              "      <td>12.0</td>\n",
              "      <td>11140.0</td>\n",
              "      <td>1.0</td>\n",
              "      <td>2 years</td>\n",
              "    </tr>\n",
              "    <tr>\n",
              "      <th>80059</th>\n",
              "      <td>35000</td>\n",
              "      <td>35000.0</td>\n",
              "      <td>21.98%</td>\n",
              "      <td>60 months</td>\n",
              "      <td>debt_consolidation</td>\n",
              "      <td>23.81%</td>\n",
              "      <td>CA</td>\n",
              "      <td>MORTGAGE</td>\n",
              "      <td>11500.00</td>\n",
              "      <td>690-694</td>\n",
              "      <td>14.0</td>\n",
              "      <td>21977.0</td>\n",
              "      <td>1.0</td>\n",
              "      <td>2 years</td>\n",
              "    </tr>\n",
              "    <tr>\n",
              "      <th>15825</th>\n",
              "      <td>10000</td>\n",
              "      <td>9975.0</td>\n",
              "      <td>9.99%</td>\n",
              "      <td>36 months</td>\n",
              "      <td>debt_consolidation</td>\n",
              "      <td>14.30%</td>\n",
              "      <td>KS</td>\n",
              "      <td>MORTGAGE</td>\n",
              "      <td>3833.33</td>\n",
              "      <td>695-699</td>\n",
              "      <td>10.0</td>\n",
              "      <td>9346.0</td>\n",
              "      <td>0.0</td>\n",
              "      <td>5 years</td>\n",
              "    </tr>\n",
              "    <tr>\n",
              "      <th>33182</th>\n",
              "      <td>12000</td>\n",
              "      <td>12000.0</td>\n",
              "      <td>11.71%</td>\n",
              "      <td>36 months</td>\n",
              "      <td>credit_card</td>\n",
              "      <td>18.78%</td>\n",
              "      <td>NJ</td>\n",
              "      <td>RENT</td>\n",
              "      <td>3195.00</td>\n",
              "      <td>695-699</td>\n",
              "      <td>11.0</td>\n",
              "      <td>14469.0</td>\n",
              "      <td>0.0</td>\n",
              "      <td>9 years</td>\n",
              "    </tr>\n",
              "  </tbody>\n",
              "</table>\n",
              "</div>"
            ],
            "text/plain": [
              "       Amount.Requested  Amount.Funded.By.Investors Interest.Rate Loan.Length  \\\n",
              "81174             20000                     20000.0         8.90%   36 months   \n",
              "99592             19200                     19200.0        12.12%   36 months   \n",
              "80059             35000                     35000.0        21.98%   60 months   \n",
              "15825             10000                      9975.0         9.99%   36 months   \n",
              "33182             12000                     12000.0        11.71%   36 months   \n",
              "\n",
              "             Loan.Purpose Debt.To.Income.Ratio State Home.Ownership  \\\n",
              "81174  debt_consolidation               14.90%    SC       MORTGAGE   \n",
              "99592  debt_consolidation               28.36%    TX       MORTGAGE   \n",
              "80059  debt_consolidation               23.81%    CA       MORTGAGE   \n",
              "15825  debt_consolidation               14.30%    KS       MORTGAGE   \n",
              "33182         credit_card               18.78%    NJ           RENT   \n",
              "\n",
              "       Monthly.Income FICO.Range  Open.CREDIT.Lines  Revolving.CREDIT.Balance  \\\n",
              "81174         6541.67    735-739               14.0                   14272.0   \n",
              "99592         4583.33    715-719               12.0                   11140.0   \n",
              "80059        11500.00    690-694               14.0                   21977.0   \n",
              "15825         3833.33    695-699               10.0                    9346.0   \n",
              "33182         3195.00    695-699               11.0                   14469.0   \n",
              "\n",
              "       Inquiries.in.the.Last.6.Months Employment.Length  \n",
              "81174                             2.0          < 1 year  \n",
              "99592                             1.0           2 years  \n",
              "80059                             1.0           2 years  \n",
              "15825                             0.0           5 years  \n",
              "33182                             0.0           9 years  "
            ]
          },
          "metadata": {
            "tags": []
          },
          "execution_count": 120
        }
      ]
    },
    {
      "metadata": {
        "id": "88fjBJMeITox",
        "colab_type": "code",
        "colab": {}
      },
      "cell_type": "code",
      "source": [
        "#Some cleaning you provided on collab\n",
        "lin_Data['Interest.Rate'] = [float(i[:-1]) for i in lin_Data['Interest.Rate']]\n",
        "lin_Data['Loan.Length']= [float(i.split(\" \")[0]) for i in lin_Data['Loan.Length']]\n",
        "lin_Data['FICO.Range'] = [(float(i.split(\"-\")[0])+float(i.split(\"-\")[1]))/2 for i in lin_Data['FICO.Range']]"
      ],
      "execution_count": 0,
      "outputs": []
    },
    {
      "metadata": {
        "id": "Hyl2H3SQJR3h",
        "colab_type": "code",
        "colab": {
          "base_uri": "https://localhost:8080/",
          "height": 224
        },
        "outputId": "b1f434c1-ee50-4b0b-86ce-eb040eaa48b1"
      },
      "cell_type": "code",
      "source": [
        "lin_Data.head()"
      ],
      "execution_count": 122,
      "outputs": [
        {
          "output_type": "execute_result",
          "data": {
            "text/html": [
              "<div>\n",
              "<style scoped>\n",
              "    .dataframe tbody tr th:only-of-type {\n",
              "        vertical-align: middle;\n",
              "    }\n",
              "\n",
              "    .dataframe tbody tr th {\n",
              "        vertical-align: top;\n",
              "    }\n",
              "\n",
              "    .dataframe thead th {\n",
              "        text-align: right;\n",
              "    }\n",
              "</style>\n",
              "<table border=\"1\" class=\"dataframe\">\n",
              "  <thead>\n",
              "    <tr style=\"text-align: right;\">\n",
              "      <th></th>\n",
              "      <th>Amount.Requested</th>\n",
              "      <th>Amount.Funded.By.Investors</th>\n",
              "      <th>Interest.Rate</th>\n",
              "      <th>Loan.Length</th>\n",
              "      <th>Loan.Purpose</th>\n",
              "      <th>Debt.To.Income.Ratio</th>\n",
              "      <th>State</th>\n",
              "      <th>Home.Ownership</th>\n",
              "      <th>Monthly.Income</th>\n",
              "      <th>FICO.Range</th>\n",
              "      <th>Open.CREDIT.Lines</th>\n",
              "      <th>Revolving.CREDIT.Balance</th>\n",
              "      <th>Inquiries.in.the.Last.6.Months</th>\n",
              "      <th>Employment.Length</th>\n",
              "    </tr>\n",
              "  </thead>\n",
              "  <tbody>\n",
              "    <tr>\n",
              "      <th>81174</th>\n",
              "      <td>20000</td>\n",
              "      <td>20000.0</td>\n",
              "      <td>8.90</td>\n",
              "      <td>36.0</td>\n",
              "      <td>debt_consolidation</td>\n",
              "      <td>14.90%</td>\n",
              "      <td>SC</td>\n",
              "      <td>MORTGAGE</td>\n",
              "      <td>6541.67</td>\n",
              "      <td>737.0</td>\n",
              "      <td>14.0</td>\n",
              "      <td>14272.0</td>\n",
              "      <td>2.0</td>\n",
              "      <td>&lt; 1 year</td>\n",
              "    </tr>\n",
              "    <tr>\n",
              "      <th>99592</th>\n",
              "      <td>19200</td>\n",
              "      <td>19200.0</td>\n",
              "      <td>12.12</td>\n",
              "      <td>36.0</td>\n",
              "      <td>debt_consolidation</td>\n",
              "      <td>28.36%</td>\n",
              "      <td>TX</td>\n",
              "      <td>MORTGAGE</td>\n",
              "      <td>4583.33</td>\n",
              "      <td>717.0</td>\n",
              "      <td>12.0</td>\n",
              "      <td>11140.0</td>\n",
              "      <td>1.0</td>\n",
              "      <td>2 years</td>\n",
              "    </tr>\n",
              "    <tr>\n",
              "      <th>80059</th>\n",
              "      <td>35000</td>\n",
              "      <td>35000.0</td>\n",
              "      <td>21.98</td>\n",
              "      <td>60.0</td>\n",
              "      <td>debt_consolidation</td>\n",
              "      <td>23.81%</td>\n",
              "      <td>CA</td>\n",
              "      <td>MORTGAGE</td>\n",
              "      <td>11500.00</td>\n",
              "      <td>692.0</td>\n",
              "      <td>14.0</td>\n",
              "      <td>21977.0</td>\n",
              "      <td>1.0</td>\n",
              "      <td>2 years</td>\n",
              "    </tr>\n",
              "    <tr>\n",
              "      <th>15825</th>\n",
              "      <td>10000</td>\n",
              "      <td>9975.0</td>\n",
              "      <td>9.99</td>\n",
              "      <td>36.0</td>\n",
              "      <td>debt_consolidation</td>\n",
              "      <td>14.30%</td>\n",
              "      <td>KS</td>\n",
              "      <td>MORTGAGE</td>\n",
              "      <td>3833.33</td>\n",
              "      <td>697.0</td>\n",
              "      <td>10.0</td>\n",
              "      <td>9346.0</td>\n",
              "      <td>0.0</td>\n",
              "      <td>5 years</td>\n",
              "    </tr>\n",
              "    <tr>\n",
              "      <th>33182</th>\n",
              "      <td>12000</td>\n",
              "      <td>12000.0</td>\n",
              "      <td>11.71</td>\n",
              "      <td>36.0</td>\n",
              "      <td>credit_card</td>\n",
              "      <td>18.78%</td>\n",
              "      <td>NJ</td>\n",
              "      <td>RENT</td>\n",
              "      <td>3195.00</td>\n",
              "      <td>697.0</td>\n",
              "      <td>11.0</td>\n",
              "      <td>14469.0</td>\n",
              "      <td>0.0</td>\n",
              "      <td>9 years</td>\n",
              "    </tr>\n",
              "  </tbody>\n",
              "</table>\n",
              "</div>"
            ],
            "text/plain": [
              "       Amount.Requested  Amount.Funded.By.Investors  Interest.Rate  \\\n",
              "81174             20000                     20000.0           8.90   \n",
              "99592             19200                     19200.0          12.12   \n",
              "80059             35000                     35000.0          21.98   \n",
              "15825             10000                      9975.0           9.99   \n",
              "33182             12000                     12000.0          11.71   \n",
              "\n",
              "       Loan.Length        Loan.Purpose Debt.To.Income.Ratio State  \\\n",
              "81174         36.0  debt_consolidation               14.90%    SC   \n",
              "99592         36.0  debt_consolidation               28.36%    TX   \n",
              "80059         60.0  debt_consolidation               23.81%    CA   \n",
              "15825         36.0  debt_consolidation               14.30%    KS   \n",
              "33182         36.0         credit_card               18.78%    NJ   \n",
              "\n",
              "      Home.Ownership  Monthly.Income  FICO.Range  Open.CREDIT.Lines  \\\n",
              "81174       MORTGAGE         6541.67       737.0               14.0   \n",
              "99592       MORTGAGE         4583.33       717.0               12.0   \n",
              "80059       MORTGAGE        11500.00       692.0               14.0   \n",
              "15825       MORTGAGE         3833.33       697.0               10.0   \n",
              "33182           RENT         3195.00       697.0               11.0   \n",
              "\n",
              "       Revolving.CREDIT.Balance  Inquiries.in.the.Last.6.Months  \\\n",
              "81174                   14272.0                             2.0   \n",
              "99592                   11140.0                             1.0   \n",
              "80059                   21977.0                             1.0   \n",
              "15825                    9346.0                             0.0   \n",
              "33182                   14469.0                             0.0   \n",
              "\n",
              "      Employment.Length  \n",
              "81174          < 1 year  \n",
              "99592           2 years  \n",
              "80059           2 years  \n",
              "15825           5 years  \n",
              "33182           9 years  "
            ]
          },
          "metadata": {
            "tags": []
          },
          "execution_count": 122
        }
      ]
    },
    {
      "metadata": {
        "id": "c0c5vOu_J4_N",
        "colab_type": "code",
        "colab": {
          "base_uri": "https://localhost:8080/",
          "height": 85
        },
        "outputId": "40e3a8ae-79a7-42af-9b25-efa9f39781ee"
      },
      "cell_type": "code",
      "source": [
        "#This cell also is just the data cleaning that was shared on collab\n",
        "\n",
        "df = lin_Data[['Interest.Rate', 'Loan.Length', 'FICO.Range']]\n",
        "intrate = df['Interest.Rate']\n",
        "loanamt = df['Loan.Length']\n",
        "fico = df['FICO.Range']\n",
        "\n",
        "# reshape the data from a pandas Series to columns \n",
        "# the dependent variable\n",
        "y = np.array(intrate).transpose()\n",
        "# the independent variables shaped as columns\n",
        "x1 = np.array(fico).transpose()\n",
        "x2 = np.array(loanamt).transpose()\n",
        "\n",
        "# put the two columns together to create an input matrix \n",
        "# if we had n independent variables we would have n columns here\n",
        "x = np.column_stack([x1,x2])\n",
        "\n",
        "# create a linear model and fit it to the data\n",
        "X = sm.add_constant(x)\n",
        "model = sm.OLS(y,X)\n",
        "f = model.fit()\n",
        "print('Coefficients: ', f.params[0:2])\n",
        "print('Intercept: ', f.params[2])\n",
        "print('P-Values: ', f.pvalues)\n",
        "print('R-Squared: ', f.rsquared)"
      ],
      "execution_count": 123,
      "outputs": [
        {
          "output_type": "stream",
          "text": [
            "Coefficients:  [65.8744788  -0.08520339]\n",
            "Intercept:  0.18193967135306596\n",
            "P-Values:  [0.00000000e+000 0.00000000e+000 4.27159025e-258]\n",
            "R-Squared:  0.6898129718512984\n"
          ],
          "name": "stdout"
        }
      ]
    },
    {
      "metadata": {
        "id": "AszVV-sSQG8b",
        "colab_type": "text"
      },
      "cell_type": "markdown",
      "source": [
        "#SkLearn Linear Regression"
      ]
    },
    {
      "metadata": {
        "id": "A5TbEYyGHQjb",
        "colab_type": "code",
        "colab": {
          "base_uri": "https://localhost:8080/",
          "height": 204
        },
        "outputId": "6b0a1cee-0c19-452c-f764-284dbf4bbed7"
      },
      "cell_type": "code",
      "source": [
        "x = lin_Data.drop(['Loan.Purpose','Debt.To.Income.Ratio','State','Home.Ownership','Employment.Length','Revolving.CREDIT.Balance','Amount.Funded.By.Investors'], axis = 1)\n",
        "\n",
        "#Rename columns so I can use syntax below for finding medians and changing types\n",
        "x.columns = ['Amount_Requested','Interest_Rate','Loan_Length','Monthly_Income','FICO_Range','Open_CREDIT_Lines','Inquiries_in_the_Last_6_Months']\n",
        "\n",
        "#Fill in any NaN values with medians\n",
        "x.Amount_Requested.fillna(x.Amount_Requested.median())\n",
        "x.Interest_Rate.fillna(x.Interest_Rate.median())\n",
        "x.Loan_Length.fillna(x.Loan_Length.median())\n",
        "x.Monthly_Income.fillna(x.Monthly_Income.median())\n",
        "x.FICO_Range.fillna(x.FICO_Range.median())\n",
        "x.Open_CREDIT_Lines.fillna(x.Open_CREDIT_Lines.median())\n",
        "x.Inquiries_in_the_Last_6_Months.fillna(0)\n",
        "\n",
        "#Convert them all from float64 to float32\n",
        "x.Amount_Requested = np.int32(x['Amount_Requested'])\n",
        "x.Interest_Rate = np.int32(x['Interest_Rate'])\n",
        "x.Loan_Length = np.int32(x['Loan_Length'])\n",
        "x.Monthly_Income = np.int32(x['Monthly_Income'])\n",
        "x.FICO_Range = np.int32(x['FICO_Range'])\n",
        "x.Open_CREDIT_Lines = np.int32(x['Open_CREDIT_Lines'])\n",
        "x.Inquiries_in_the_Last_6_Months = np.int32(x['Inquiries_in_the_Last_6_Months'])\n",
        "\n",
        "x.head()"
      ],
      "execution_count": 153,
      "outputs": [
        {
          "output_type": "execute_result",
          "data": {
            "text/html": [
              "<div>\n",
              "<style scoped>\n",
              "    .dataframe tbody tr th:only-of-type {\n",
              "        vertical-align: middle;\n",
              "    }\n",
              "\n",
              "    .dataframe tbody tr th {\n",
              "        vertical-align: top;\n",
              "    }\n",
              "\n",
              "    .dataframe thead th {\n",
              "        text-align: right;\n",
              "    }\n",
              "</style>\n",
              "<table border=\"1\" class=\"dataframe\">\n",
              "  <thead>\n",
              "    <tr style=\"text-align: right;\">\n",
              "      <th></th>\n",
              "      <th>Amount_Requested</th>\n",
              "      <th>Interest_Rate</th>\n",
              "      <th>Loan_Length</th>\n",
              "      <th>Monthly_Income</th>\n",
              "      <th>FICO_Range</th>\n",
              "      <th>Open_CREDIT_Lines</th>\n",
              "      <th>Inquiries_in_the_Last_6_Months</th>\n",
              "    </tr>\n",
              "  </thead>\n",
              "  <tbody>\n",
              "    <tr>\n",
              "      <th>81174</th>\n",
              "      <td>20000</td>\n",
              "      <td>8</td>\n",
              "      <td>36</td>\n",
              "      <td>6541</td>\n",
              "      <td>737</td>\n",
              "      <td>14</td>\n",
              "      <td>2</td>\n",
              "    </tr>\n",
              "    <tr>\n",
              "      <th>99592</th>\n",
              "      <td>19200</td>\n",
              "      <td>12</td>\n",
              "      <td>36</td>\n",
              "      <td>4583</td>\n",
              "      <td>717</td>\n",
              "      <td>12</td>\n",
              "      <td>1</td>\n",
              "    </tr>\n",
              "    <tr>\n",
              "      <th>80059</th>\n",
              "      <td>35000</td>\n",
              "      <td>21</td>\n",
              "      <td>60</td>\n",
              "      <td>11500</td>\n",
              "      <td>692</td>\n",
              "      <td>14</td>\n",
              "      <td>1</td>\n",
              "    </tr>\n",
              "    <tr>\n",
              "      <th>15825</th>\n",
              "      <td>10000</td>\n",
              "      <td>9</td>\n",
              "      <td>36</td>\n",
              "      <td>3833</td>\n",
              "      <td>697</td>\n",
              "      <td>10</td>\n",
              "      <td>0</td>\n",
              "    </tr>\n",
              "    <tr>\n",
              "      <th>33182</th>\n",
              "      <td>12000</td>\n",
              "      <td>11</td>\n",
              "      <td>36</td>\n",
              "      <td>3195</td>\n",
              "      <td>697</td>\n",
              "      <td>11</td>\n",
              "      <td>0</td>\n",
              "    </tr>\n",
              "  </tbody>\n",
              "</table>\n",
              "</div>"
            ],
            "text/plain": [
              "       Amount_Requested  Interest_Rate  Loan_Length  Monthly_Income  \\\n",
              "81174             20000              8           36            6541   \n",
              "99592             19200             12           36            4583   \n",
              "80059             35000             21           60           11500   \n",
              "15825             10000              9           36            3833   \n",
              "33182             12000             11           36            3195   \n",
              "\n",
              "       FICO_Range  Open_CREDIT_Lines  Inquiries_in_the_Last_6_Months  \n",
              "81174         737                 14                               2  \n",
              "99592         717                 12                               1  \n",
              "80059         692                 14                               1  \n",
              "15825         697                 10                               0  \n",
              "33182         697                 11                               0  "
            ]
          },
          "metadata": {
            "tags": []
          },
          "execution_count": 153
        }
      ]
    },
    {
      "metadata": {
        "id": "ZuY0cGZELNni",
        "colab_type": "code",
        "colab": {
          "base_uri": "https://localhost:8080/",
          "height": 51
        },
        "outputId": "87934a39-f1a6-4ef7-9d35-f595b91adc14"
      },
      "cell_type": "code",
      "source": [
        "reg_Mod = linear_model.LinearRegression()\n",
        "y = lin_Data['Interest.Rate']\n",
        "\n",
        "\n",
        "reg_Mod.fit(x,y)\n",
        "reg_Mod.coef_\n",
        "#Shows the coefficients you would have in the equation for our line and its intercept"
      ],
      "execution_count": 156,
      "outputs": [
        {
          "output_type": "execute_result",
          "data": {
            "text/plain": [
              "array([ 2.40850229e-06,  9.72841059e-01,  6.24820193e-03, -1.05094877e-10,\n",
              "       -1.39829959e-03, -4.28155999e-03,  4.28156013e-03])"
            ]
          },
          "metadata": {
            "tags": []
          },
          "execution_count": 156
        }
      ]
    },
    {
      "metadata": {
        "id": "CxLNMuuRGZ_o",
        "colab_type": "code",
        "colab": {
          "base_uri": "https://localhost:8080/",
          "height": 34
        },
        "outputId": "8b8509d0-8611-4fac-eeec-e9e912fde97f"
      },
      "cell_type": "code",
      "source": [
        "reg_Mod.intercept_"
      ],
      "execution_count": 157,
      "outputs": [
        {
          "output_type": "execute_result",
          "data": {
            "text/plain": [
              "1.5783575166173982"
            ]
          },
          "metadata": {
            "tags": []
          },
          "execution_count": 157
        }
      ]
    },
    {
      "metadata": {
        "id": "naZHxDMuHDT3",
        "colab_type": "code",
        "colab": {
          "base_uri": "https://localhost:8080/",
          "height": 520
        },
        "outputId": "7afa16e9-a2f4-4a24-b7b2-21caad13fd31"
      },
      "cell_type": "code",
      "source": [
        "reg_Mod.predict([[8.9,36.0,737.0]]) "
      ],
      "execution_count": 158,
      "outputs": [
        {
          "output_type": "error",
          "ename": "ValueError",
          "evalue": "ignored",
          "traceback": [
            "\u001b[0;31m---------------------------------------------------------------------------\u001b[0m",
            "\u001b[0;31mValueError\u001b[0m                                Traceback (most recent call last)",
            "\u001b[0;32m<ipython-input-158-6f5c37226cd9>\u001b[0m in \u001b[0;36m<module>\u001b[0;34m()\u001b[0m\n\u001b[0;32m----> 1\u001b[0;31m \u001b[0mreg_Mod\u001b[0m\u001b[0;34m.\u001b[0m\u001b[0mpredict\u001b[0m\u001b[0;34m(\u001b[0m\u001b[0;34m[\u001b[0m\u001b[0;34m[\u001b[0m\u001b[0;36m8.9\u001b[0m\u001b[0;34m,\u001b[0m\u001b[0;36m36.0\u001b[0m\u001b[0;34m,\u001b[0m\u001b[0;36m737.0\u001b[0m\u001b[0;34m]\u001b[0m\u001b[0;34m]\u001b[0m\u001b[0;34m)\u001b[0m\u001b[0;34m\u001b[0m\u001b[0;34m\u001b[0m\u001b[0m\n\u001b[0m",
            "\u001b[0;32m/usr/local/lib/python3.6/dist-packages/sklearn/linear_model/base.py\u001b[0m in \u001b[0;36mpredict\u001b[0;34m(self, X)\u001b[0m\n\u001b[1;32m    211\u001b[0m             \u001b[0mReturns\u001b[0m \u001b[0mpredicted\u001b[0m \u001b[0mvalues\u001b[0m\u001b[0;34m.\u001b[0m\u001b[0;34m\u001b[0m\u001b[0;34m\u001b[0m\u001b[0m\n\u001b[1;32m    212\u001b[0m         \"\"\"\n\u001b[0;32m--> 213\u001b[0;31m         \u001b[0;32mreturn\u001b[0m \u001b[0mself\u001b[0m\u001b[0;34m.\u001b[0m\u001b[0m_decision_function\u001b[0m\u001b[0;34m(\u001b[0m\u001b[0mX\u001b[0m\u001b[0;34m)\u001b[0m\u001b[0;34m\u001b[0m\u001b[0;34m\u001b[0m\u001b[0m\n\u001b[0m\u001b[1;32m    214\u001b[0m \u001b[0;34m\u001b[0m\u001b[0m\n\u001b[1;32m    215\u001b[0m     \u001b[0m_preprocess_data\u001b[0m \u001b[0;34m=\u001b[0m \u001b[0mstaticmethod\u001b[0m\u001b[0;34m(\u001b[0m\u001b[0m_preprocess_data\u001b[0m\u001b[0;34m)\u001b[0m\u001b[0;34m\u001b[0m\u001b[0;34m\u001b[0m\u001b[0m\n",
            "\u001b[0;32m/usr/local/lib/python3.6/dist-packages/sklearn/linear_model/base.py\u001b[0m in \u001b[0;36m_decision_function\u001b[0;34m(self, X)\u001b[0m\n\u001b[1;32m    196\u001b[0m         \u001b[0mX\u001b[0m \u001b[0;34m=\u001b[0m \u001b[0mcheck_array\u001b[0m\u001b[0;34m(\u001b[0m\u001b[0mX\u001b[0m\u001b[0;34m,\u001b[0m \u001b[0maccept_sparse\u001b[0m\u001b[0;34m=\u001b[0m\u001b[0;34m[\u001b[0m\u001b[0;34m'csr'\u001b[0m\u001b[0;34m,\u001b[0m \u001b[0;34m'csc'\u001b[0m\u001b[0;34m,\u001b[0m \u001b[0;34m'coo'\u001b[0m\u001b[0;34m]\u001b[0m\u001b[0;34m)\u001b[0m\u001b[0;34m\u001b[0m\u001b[0;34m\u001b[0m\u001b[0m\n\u001b[1;32m    197\u001b[0m         return safe_sparse_dot(X, self.coef_.T,\n\u001b[0;32m--> 198\u001b[0;31m                                dense_output=True) + self.intercept_\n\u001b[0m\u001b[1;32m    199\u001b[0m \u001b[0;34m\u001b[0m\u001b[0m\n\u001b[1;32m    200\u001b[0m     \u001b[0;32mdef\u001b[0m \u001b[0mpredict\u001b[0m\u001b[0;34m(\u001b[0m\u001b[0mself\u001b[0m\u001b[0;34m,\u001b[0m \u001b[0mX\u001b[0m\u001b[0;34m)\u001b[0m\u001b[0;34m:\u001b[0m\u001b[0;34m\u001b[0m\u001b[0;34m\u001b[0m\u001b[0m\n",
            "\u001b[0;32m/usr/local/lib/python3.6/dist-packages/sklearn/utils/extmath.py\u001b[0m in \u001b[0;36msafe_sparse_dot\u001b[0;34m(a, b, dense_output)\u001b[0m\n\u001b[1;32m    171\u001b[0m         \u001b[0;32mreturn\u001b[0m \u001b[0mret\u001b[0m\u001b[0;34m\u001b[0m\u001b[0;34m\u001b[0m\u001b[0m\n\u001b[1;32m    172\u001b[0m     \u001b[0;32melse\u001b[0m\u001b[0;34m:\u001b[0m\u001b[0;34m\u001b[0m\u001b[0;34m\u001b[0m\u001b[0m\n\u001b[0;32m--> 173\u001b[0;31m         \u001b[0;32mreturn\u001b[0m \u001b[0mnp\u001b[0m\u001b[0;34m.\u001b[0m\u001b[0mdot\u001b[0m\u001b[0;34m(\u001b[0m\u001b[0ma\u001b[0m\u001b[0;34m,\u001b[0m \u001b[0mb\u001b[0m\u001b[0;34m)\u001b[0m\u001b[0;34m\u001b[0m\u001b[0;34m\u001b[0m\u001b[0m\n\u001b[0m\u001b[1;32m    174\u001b[0m \u001b[0;34m\u001b[0m\u001b[0m\n\u001b[1;32m    175\u001b[0m \u001b[0;34m\u001b[0m\u001b[0m\n",
            "\u001b[0;31mValueError\u001b[0m: shapes (1,3) and (7,) not aligned: 3 (dim 1) != 7 (dim 0)"
          ]
        }
      ]
    },
    {
      "metadata": {
        "id": "sMj3UPekHiA-",
        "colab_type": "code",
        "colab": {}
      },
      "cell_type": "code",
      "source": [
        "reg_Mod.predict[[]]"
      ],
      "execution_count": 0,
      "outputs": []
    },
    {
      "metadata": {
        "id": "DhdP1B_ZTwRy",
        "colab_type": "text"
      },
      "cell_type": "markdown",
      "source": [
        "#SkLearn Logistic Regression"
      ]
    },
    {
      "metadata": {
        "id": "PWn0GqJ4T18n",
        "colab_type": "code",
        "colab": {}
      },
      "cell_type": "code",
      "source": [
        ""
      ],
      "execution_count": 0,
      "outputs": []
    }
  ]
}